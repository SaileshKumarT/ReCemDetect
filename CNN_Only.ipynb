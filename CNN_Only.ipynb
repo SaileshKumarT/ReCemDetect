{
 "cells": [
  {
   "cell_type": "code",
   "execution_count": 25,
   "metadata": {},
   "outputs": [],
   "source": [
    "import os\n",
    "import numpy as np\n",
    "import pandas as pd\n",
    "import tensorflow as tf\n",
    "from matplotlib import pyplot as plt\n",
    "# plt.style.use('dark_background')\n",
    "import warnings\n",
    "os.environ['TF_CPP_MIN_LOG_LEVEL'] = '2' \n",
    "warnings.filterwarnings('ignore')\n",
    "import keras\n",
    "from keras.layers import *\n",
    "from keras.models import *\n",
    "from keras.preprocessing import image\n",
    "import cv2"
   ]
  },
  {
   "cell_type": "code",
   "execution_count": 26,
   "metadata": {},
   "outputs": [],
   "source": [
    "train_directory = '/home/tsaileshkumar/ML_Project/dataset_1'\n",
    "# test_directory = '/home/tsaileshkumar/ML_Project/dataset/test'"
   ]
  },
  {
   "cell_type": "code",
   "execution_count": 27,
   "metadata": {},
   "outputs": [],
   "source": [
    "def fft(img):\n",
    "    # Apply 2D Fast Fourier Transform\n",
    "    f = np.fft.fft2(img)\n",
    "    # Shift DC component to center of spectrum\n",
    "    fshift = np.fft.fftshift(f)\n",
    "    # Take magnitude of complex spectrum and scale to 0-255\n",
    "    magnitude_spectrum = 20*np.log(np.abs(fshift))\n",
    "    magnitude_spectrum = cv2.normalize(magnitude_spectrum, None, alpha=0, beta=255, norm_type=cv2.NORM_MINMAX, dtype=cv2.CV_8U)\n",
    "    # Cast array to float64\n",
    "    magnitude_spectrum = magnitude_spectrum.astype(np.float64)\n",
    "    return magnitude_spectrum"
   ]
  },
  {
   "cell_type": "code",
   "execution_count": 28,
   "metadata": {},
   "outputs": [
    {
     "name": "stdout",
     "output_type": "stream",
     "text": [
      "Found 267 images belonging to 2 classes.\n",
      "Found 65 images belonging to 2 classes.\n"
     ]
    }
   ],
   "source": [
    "from tensorflow.keras.preprocessing.image import ImageDataGenerator\n",
    "\n",
    "# Create the ImageDataGenerator object\n",
    "train_datagen = ImageDataGenerator(\n",
    "    preprocessing_function = fft,\n",
    "    rescale=1./255,\n",
    "    validation_split=0.2,\n",
    "#     featurewise_center=True,\n",
    "#     featurewise_std_normalization=True,\n",
    "#     rotation_range=20,\n",
    "#     width_shift_range=0.2,\n",
    "#     height_shift_range=0.2,\n",
    "#     shear_range=0.2,  \n",
    "#     zoom_range=0.2,\n",
    "#     horizontal_flip=True,\n",
    "#     fill_mode='nearest'\n",
    ")\n",
    "\n",
    "val_datagen = ImageDataGenerator(\n",
    "    preprocessing_function = fft,\n",
    "    rescale=1./255,\n",
    "    validation_split=0.2,\n",
    "#     featurewise_center=True,\n",
    "#     featurewise_std_normalization=True,\n",
    "#     rotation_range=20,\n",
    "#     width_shift_range=0.2,\n",
    "#     height_shift_range=0.2,\n",
    "#     shear_range=0.2, \n",
    "#     zoom_range=0.2,\n",
    "#     horizontal_flip=True,\n",
    "#     fill_mode='nearest'\n",
    ") \n",
    "\n",
    "train_generator = train_datagen.flow_from_directory(\n",
    "train_directory, \n",
    "target_size=(224,224), \n",
    "color_mode='rgb', \n",
    "batch_size=32, \n",
    "class_mode='binary', \n",
    "subset='training',\n",
    "shuffle=True,\n",
    "seed=42\n",
    ")\n",
    "validation_generator = val_datagen.flow_from_directory(\n",
    "train_directory,\n",
    "target_size=(224,224), \n",
    "color_mode='rgb', \n",
    "batch_size=32, \n",
    "class_mode='binary', \n",
    "subset='validation', \n",
    "shuffle=False\n",
    ")"
   ]
  },
  {
   "cell_type": "code",
   "execution_count": 29,
   "metadata": {},
   "outputs": [],
   "source": [
    "# from tensorflow.keras.preprocessing.image import ImageDataGenerator\n",
    "\n",
    "# class MixupImageDataGenerator(ImageDataGenerator):\n",
    "#     def __init__(self, mixup_alpha=0.2, cutmix_alpha=1.0, *args, **kwargs):\n",
    "#         super().__init__(\n",
    "#             zoom_range=0.2,\n",
    "#             rotation_range=20,\n",
    "#             horizontal_flip=True,\n",
    "#             vertical_flip=True,\n",
    "#             rescale=1./255,\n",
    "#             validation_split=0.2,\n",
    "#             featurewise_center=True,\n",
    "#             featurewise_std_normalization=True,\n",
    "#             width_shift_range=0.2,\n",
    "#             height_shift_range=0.2,\n",
    "#             shear_range=0.2, \n",
    "#             fill_mode='nearest',\n",
    "#             *args,\n",
    "#             **kwargs,\n",
    "#         )\n",
    "#         self.mixup_alpha = mixup_alpha\n",
    "#         self.cutmix_alpha = cutmix_alpha\n",
    "\n",
    "#     def mixup(self, X1, Y1, X2, Y2):\n",
    "#         batch_size = len(X1)\n",
    "#         l = np.random.beta(self.mixup_alpha, self.mixup_alpha, batch_size)\n",
    "#         X_l = l.reshape(batch_size, 1, 1, 1)\n",
    "#         Y_l = l.reshape(batch_size, 1)\n",
    "#         X = X1 * X_l + X2 * (1 - X_l)\n",
    "#         Y = Y1 * Y_l + Y2 * (1 - Y_l)\n",
    "#         return X, Y\n",
    "\n",
    "#     def cutmix(self, X1, Y1, X2, Y2):\n",
    "#         batch_size, height, width, channels = X1.shape\n",
    "#         cut_ratio = np.sqrt(1.0 - np.random.beta(self.cutmix_alpha, self.cutmix_alpha))\n",
    "#         cut_w = np.int(width * cut_ratio)\n",
    "#         cut_h = np.int(height * cut_ratio)\n",
    "#         center_x = np.random.randint(width)\n",
    "#         center_y = np.random.randint(height)\n",
    "#         x1 = np.clip(center_x - cut_w // 2, 0, width)\n",
    "#         y1 = np.clip(center_y - cut_h // 2, 0, height)\n",
    "#         x2 = np.clip(center_x + cut_w // 2, 0, width)\n",
    "#         y2 = np.clip(center_y + cut_h // 2, 0, height)\n",
    "#         mask = np.zeros((batch_size, height, width, channels))\n",
    "#         mask[:, y1:y2, x1:x2, :] = 1.0\n",
    "#         X = X1 * mask + X2 * (1 - mask)\n",
    "#         Y = Y1 * cut_ratio + Y2 * (1 - cut_ratio)\n",
    "#         return X, Y\n",
    "\n",
    "#     def flow(self, *args, **kwargs):\n",
    "#         batches = super().flow(*args, **kwargs)\n",
    "#         while True:\n",
    "#             batch_x, batch_y = next(batches)\n",
    "#             if self.mixup_alpha > 0:\n",
    "#                 X2, Y2 = next(batches)\n",
    "#                 batch_x, batch_y = self.mixup(batch_x, batch_y, X2, Y2)\n",
    "#             elif self.cutmix_alpha > 0:\n",
    "#                 X2, Y2 = next(batches)\n",
    "#                 batch_x, batch_y = self.cutmix(batch_x, batch_y, X2, Y2)\n",
    "#             yield (batch_x, batch_y)\n"
   ]
  },
  {
   "cell_type": "code",
   "execution_count": 30,
   "metadata": {},
   "outputs": [],
   "source": [
    "# train_datagen = MixupImageDataGenerator(\n",
    "#     mixup_alpha=0.2,\n",
    "#     cutmix_alpha=1.0,\n",
    "#     )\n",
    "\n",
    "# val_datagen = MixupImageDataGenerator(\n",
    "#     mixup_alpha=0.2,\n",
    "#     cutmix_alpha=1.0,\n",
    "#     )\n",
    "\n",
    "# train_generator = train_datagen.flow_from_directory(\n",
    "# train_directory, \n",
    "# target_size=(224,224), \n",
    "# color_mode='rgb', \n",
    "# batch_size=32, \n",
    "# class_mode='binary', \n",
    "# subset='training',\n",
    "# shuffle=True,\n",
    "# seed=42\n",
    "# )\n",
    "\n",
    "# validation_generator = val_datagen.flow_from_directory(\n",
    "# train_directory,\n",
    "# target_size=(224,224), \n",
    "# color_mode='rgb', \n",
    "# batch_size=32, \n",
    "# class_mode='binary', \n",
    "# subset='validation', \n",
    "# shuffle=False\n",
    "# )\n",
    "\n",
    "\n",
    "   \n"
   ]
  },
  {
   "cell_type": "code",
   "execution_count": 31,
   "metadata": {},
   "outputs": [],
   "source": [
    "# fig, axes = plt.subplots(nrows=4, ncols=4, figsize=(8, 8))\n",
    "# for i in range(4):\n",
    "#     for j in range(4):\n",
    "#         image, label = next(train_generator)\n",
    "#         axes[i, j].imshow(image[1])\n",
    "#         axes[i, j].set_title(f\"Class: {label[1]}\")\n",
    "#         axes[i, j].axis(\"off\")\n",
    "# plt.tight_layout()\n",
    "# plt.show()"
   ]
  },
  {
   "cell_type": "code",
   "execution_count": 32,
   "metadata": {},
   "outputs": [],
   "source": [
    "import math\n",
    "# learning rate schedule\n",
    "def step_decay(epoch):\n",
    " initial_lrate = 0.1\n",
    " drop = 0.5\n",
    " epochs_drop = 10.0\n",
    " lrate = initial_lrate * math.pow(drop, math.floor((1+epoch)/epochs_drop))\n",
    " return lrate"
   ]
  },
  {
   "cell_type": "code",
   "execution_count": 33,
   "metadata": {},
   "outputs": [],
   "source": [
    "from tensorflow.keras.optimizers import Adam\n",
    "from tensorflow.keras.callbacks import LearningRateScheduler\n",
    "\n",
    "model = Sequential()\n",
    "model.add(Conv2D(32,kernel_size=(3,3), activation='relu', input_shape=(224,224,3)))\n",
    "model.add(Conv2D(64,(3,3),activation='relu'))\n",
    "model.add(MaxPooling2D(pool_size=(2,2)))\n",
    "\n",
    "\n",
    "model.add(Conv2D(64,(3,3),activation='relu'))\n",
    "model.add(MaxPooling2D(pool_size=(2,2)))\n",
    "\n",
    "model.add(Conv2D(128,(3,3),activation='relu'))\n",
    "model.add(MaxPooling2D(pool_size=(2,2)))\n",
    "\n",
    "\n",
    "model.add(Flatten())\n",
    "model.add(Dense(64,activation='relu'))\n",
    "\n",
    "model.add(Dense(1,activation='sigmoid'))\n",
    "\n",
    "# Compile model\n",
    "sgd = tf.keras.optimizers.Adam(learning_rate=0.01)\n",
    "model.compile(loss='binary_crossentropy', optimizer=sgd, metrics=['accuracy'])\n",
    "# learning schedule callback\n",
    "lrate = LearningRateScheduler(step_decay)\n",
    "callbacks_list = [lrate]\n",
    "\n",
    "model.compile(loss=keras.losses.binary_crossentropy, optimizer = sgd, metrics=['accuracy'])"
   ]
  },
  {
   "cell_type": "code",
   "execution_count": 34,
   "metadata": {},
   "outputs": [],
   "source": [
    "# IMG_SIZE = 224\n",
    "# inputs = tf.keras.Input(shape = (224,224, 3))\n",
    "\n",
    "# model = Conv2D(filters=32, kernel_size=(3, 3), padding='SAME', activation='relu', input_shape=(IMG_SIZE, IMG_SIZE, 1))(inputs)\n",
    "# model = Conv2D(filters=32, kernel_size=(3, 3), padding='SAME', activation='relu')(model)\n",
    "# model = Conv2D(filters=32, kernel_size=(3, 3), padding='SAME', activation='relu')(model)\n",
    "# model = BatchNormalization(momentum=0.15)(model)\n",
    "# model = MaxPool2D(pool_size=(2, 2))(model)\n",
    "# model = Conv2D(filters=32, kernel_size=(5, 5), padding='SAME', activation='relu')(model)\n",
    "# model = Dropout(rate=0.3)(model)\n",
    "\n",
    "# model = Conv2D(filters=64, kernel_size=(3, 3), padding='SAME', activation='relu')(model)\n",
    "# model = Conv2D(filters=64, kernel_size=(3, 3), padding='SAME', activation='relu')(model)\n",
    "# model = Conv2D(filters=64, kernel_size=(3, 3), padding='SAME', activation='relu')(model)\n",
    "# model = BatchNormalization(momentum=0.15)(model)\n",
    "# model = MaxPool2D(pool_size=(2, 2))(model)\n",
    "# model = Conv2D(filters=64, kernel_size=(5, 5), padding='SAME', activation='relu')(model)\n",
    "# model = BatchNormalization(momentum=0.15)(model)\n",
    "# model = Dropout(rate=0.3)(model)\n",
    "\n",
    "# model = Conv2D(filters=128, kernel_size=(3, 3), padding='SAME', activation='relu')(model)\n",
    "# model = Conv2D(filters=128, kernel_size=(3, 3), padding='SAME', activation='relu')(model)\n",
    "# model = Conv2D(filters=128, kernel_size=(3, 3), padding='SAME', activation='relu')(model)\n",
    "# model = BatchNormalization(momentum=0.15)(model)\n",
    "# model = MaxPool2D(pool_size=(2, 2))(model)\n",
    "# model = Conv2D(filters=128, kernel_size=(5, 5), padding='SAME', activation='relu')(model)\n",
    "# model = BatchNormalization(momentum=0.15)(model)\n",
    "# model = Dropout(rate=0.3)(model)\n",
    "\n",
    "# model = Conv2D(filters=256, kernel_size=(3, 3), padding='SAME', activation='relu')(model)\n",
    "# model = Conv2D(filters=256, kernel_size=(3, 3), padding='SAME', activation='relu')(model)\n",
    "# model = Conv2D(filters=256, kernel_size=(3, 3), padding='SAME', activation='relu')(model)\n",
    "# model = BatchNormalization(momentum=0.15)(model)\n",
    "# model = MaxPool2D(pool_size=(2, 2))(model)\n",
    "# model = Conv2D(filters=256, kernel_size=(5, 5), padding='SAME', activation='relu')(model)\n",
    "# model = BatchNormalization(momentum=0.15)(model)\n",
    "# model = Dropout(rate=0.3)(model)\n",
    "\n",
    "# model = Flatten()(model)\n",
    "# model = Dense(1024, activation = \"relu\")(model)\n",
    "# model = Dropout(rate=0.3)(model)\n",
    "# dense = Dense(512, activation = \"relu\")(model)\n",
    "\n",
    "# head_root = Dense(168, activation = 'softmax')(dense)\n",
    "# head_vowel = Dense(11, activation = 'softmax')(dense)\n",
    "# head_consonant = Dense(1, activation = 'sigmoid')(dense)\n",
    "\n",
    "\n",
    "# model = tf.keras.Model(inputs=inputs, outputs=head_consonant)\n",
    "# # Compile model\n",
    "# opt = tf.keras.optimizers.Adam(learning_rate=0.01)\n",
    "# model.compile(loss='binary_crossentropy', optimizer=opt, metrics=['accuracy'])\n",
    "# # learning schedule callback\n",
    "# # lrate = LearningRateScheduler(step_decay)\n",
    "# # callbacks_list = [lrate]\n",
    "\n",
    "# # model.compile(loss=keras.losses.binary_crossentropy, optimizer = sgd, metrics=['accuracy'])"
   ]
  },
  {
   "cell_type": "code",
   "execution_count": 35,
   "metadata": {},
   "outputs": [
    {
     "name": "stdout",
     "output_type": "stream",
     "text": [
      "Model: \"sequential_1\"\n",
      "_________________________________________________________________\n",
      "Layer (type)                 Output Shape              Param #   \n",
      "=================================================================\n",
      "conv2d_4 (Conv2D)            (None, 222, 222, 32)      896       \n",
      "_________________________________________________________________\n",
      "conv2d_5 (Conv2D)            (None, 220, 220, 64)      18496     \n",
      "_________________________________________________________________\n",
      "max_pooling2d_3 (MaxPooling2 (None, 110, 110, 64)      0         \n",
      "_________________________________________________________________\n",
      "conv2d_6 (Conv2D)            (None, 108, 108, 64)      36928     \n",
      "_________________________________________________________________\n",
      "max_pooling2d_4 (MaxPooling2 (None, 54, 54, 64)        0         \n",
      "_________________________________________________________________\n",
      "conv2d_7 (Conv2D)            (None, 52, 52, 128)       73856     \n",
      "_________________________________________________________________\n",
      "max_pooling2d_5 (MaxPooling2 (None, 26, 26, 128)       0         \n",
      "_________________________________________________________________\n",
      "flatten_1 (Flatten)          (None, 86528)             0         \n",
      "_________________________________________________________________\n",
      "dense_2 (Dense)              (None, 64)                5537856   \n",
      "_________________________________________________________________\n",
      "dense_3 (Dense)              (None, 1)                 65        \n",
      "=================================================================\n",
      "Total params: 5,668,097\n",
      "Trainable params: 5,668,097\n",
      "Non-trainable params: 0\n",
      "_________________________________________________________________\n"
     ]
    }
   ],
   "source": [
    "model.summary()\n"
   ]
  },
  {
   "cell_type": "code",
   "execution_count": 36,
   "metadata": {},
   "outputs": [],
   "source": [
    "from collections import Counter\n",
    "counter = Counter(train_generator.classes)                          \n",
    "max_val = float(max(counter.values()))       \n",
    "class_weights = {class_id : max_val/num_images for class_id, num_images in counter.items()}"
   ]
  },
  {
   "cell_type": "code",
   "execution_count": 37,
   "metadata": {},
   "outputs": [
    {
     "name": "stdout",
     "output_type": "stream",
     "text": [
      "Epoch 1/20\n",
      "9/9 [==============================] - 25s 3s/step - loss: 0.9765 - accuracy: 0.4794 - val_loss: 0.6922 - val_accuracy: 0.7077\n",
      "Epoch 2/20\n",
      "9/9 [==============================] - 23s 2s/step - loss: 0.9765 - accuracy: 0.4869 - val_loss: 0.6959 - val_accuracy: 0.2923\n",
      "Epoch 3/20\n",
      "9/9 [==============================] - 23s 2s/step - loss: 0.9763 - accuracy: 0.2959 - val_loss: 0.6970 - val_accuracy: 0.2923\n",
      "Epoch 4/20\n",
      "9/9 [==============================] - 24s 3s/step - loss: 0.9763 - accuracy: 0.2959 - val_loss: 0.6961 - val_accuracy: 0.2923\n",
      "Epoch 5/20\n",
      "9/9 [==============================] - 31s 3s/step - loss: 0.9768 - accuracy: 0.2959 - val_loss: 0.6993 - val_accuracy: 0.2923\n",
      "Epoch 6/20\n",
      "9/9 [==============================] - 29s 3s/step - loss: 0.9764 - accuracy: 0.2959 - val_loss: 0.6991 - val_accuracy: 0.2923\n",
      "Epoch 7/20\n",
      "9/9 [==============================] - 25s 3s/step - loss: 0.9766 - accuracy: 0.2959 - val_loss: 0.6972 - val_accuracy: 0.2923\n",
      "Epoch 8/20\n",
      "9/9 [==============================] - 26s 3s/step - loss: 0.9763 - accuracy: 0.2959 - val_loss: 0.6949 - val_accuracy: 0.2923\n",
      "Epoch 9/20\n",
      "9/9 [==============================] - 24s 3s/step - loss: 0.9764 - accuracy: 0.2959 - val_loss: 0.6944 - val_accuracy: 0.2923\n",
      "Epoch 10/20\n",
      "9/9 [==============================] - 29s 3s/step - loss: 0.9762 - accuracy: 0.2959 - val_loss: 0.6949 - val_accuracy: 0.2923\n",
      "Epoch 11/20\n",
      "9/9 [==============================] - 29s 3s/step - loss: 0.9761 - accuracy: 0.2959 - val_loss: 0.6956 - val_accuracy: 0.2923\n",
      "Epoch 12/20\n",
      "9/9 [==============================] - 25s 3s/step - loss: 0.9765 - accuracy: 0.2959 - val_loss: 0.6991 - val_accuracy: 0.2923\n",
      "Epoch 13/20\n",
      "9/9 [==============================] - 25s 3s/step - loss: 0.9763 - accuracy: 0.2959 - val_loss: 0.6983 - val_accuracy: 0.2923\n",
      "Epoch 14/20\n",
      "9/9 [==============================] - 24s 3s/step - loss: 0.9764 - accuracy: 0.2959 - val_loss: 0.6964 - val_accuracy: 0.2923\n",
      "Epoch 15/20\n",
      "9/9 [==============================] - 30s 3s/step - loss: 0.9761 - accuracy: 0.2959 - val_loss: 0.6951 - val_accuracy: 0.2923\n",
      "Epoch 16/20\n",
      "9/9 [==============================] - 26s 3s/step - loss: 0.9762 - accuracy: 0.2959 - val_loss: 0.6945 - val_accuracy: 0.2923\n",
      "Epoch 17/20\n",
      "9/9 [==============================] - 29s 3s/step - loss: 0.9764 - accuracy: 0.2959 - val_loss: 0.6975 - val_accuracy: 0.2923\n",
      "Epoch 18/20\n",
      "9/9 [==============================] - 33s 3s/step - loss: 0.9763 - accuracy: 0.2959 - val_loss: 0.6963 - val_accuracy: 0.2923\n",
      "Epoch 19/20\n",
      "9/9 [==============================] - 26s 3s/step - loss: 0.9763 - accuracy: 0.2959 - val_loss: 0.6956 - val_accuracy: 0.2923\n",
      "Epoch 20/20\n",
      "9/9 [==============================] - 25s 3s/step - loss: 0.9762 - accuracy: 0.2959 - val_loss: 0.6961 - val_accuracy: 0.2923\n"
     ]
    }
   ],
   "source": [
    "history_of_model = model.fit(train_generator, epochs=20, validation_data=validation_generator,class_weight=class_weights)\n",
    "#                              ,callbacks=callbacks_list)"
   ]
  },
  {
   "cell_type": "code",
   "execution_count": 22,
   "metadata": {},
   "outputs": [
    {
     "data": {
      "image/png": "[encoded data removed]",
      "text/plain": [
       "<Figure size 432x288 with 1 Axes>"
      ]
     },
     "metadata": {
      "needs_background": "light"
     },
     "output_type": "display_data"
    }
   ],
   "source": [
    "loss = history_of_model.history['loss']\n",
    "val_loss = history_of_model.history['val_loss']\n",
    "epochs = range(1, len(loss) + 1)\n",
    "plt.plot(epochs, loss, 'y', label='Training loss')\n",
    "plt.plot(epochs, val_loss, 'r', label='Validation loss')\n",
    "plt.title('Training and validation loss')\n",
    "plt.xlabel('Epochs')\n",
    "plt.ylabel('Loss')\n",
    "plt.legend()\n",
    "plt.show()"
   ]
  },
  {
   "cell_type": "code",
   "execution_count": 23,
   "metadata": {},
   "outputs": [
    {
     "data": {
      "image/png": "[encoded data removed]",
      "text/plain": [
       "<Figure size 432x288 with 1 Axes>"
      ]
     },
     "metadata": {
      "needs_background": "light"
     },
     "output_type": "display_data"
    }
   ],
   "source": [
    "acc = history_of_model.history['accuracy']\n",
    "val_acc = history_of_model.history['val_accuracy']\n",
    "plt.plot(epochs, acc, 'y', label='Training acc')\n",
    "plt.plot(epochs, val_acc, 'r', label='Validation acc')\n",
    "plt.title('Training and validation accuracy')\n",
    "plt.xlabel('Epochs')\n",
    "plt.ylabel('Accuracy')\n",
    "plt.legend()\n",
    "plt.show()"
   ]
  },
  {
   "cell_type": "code",
   "execution_count": 24,
   "metadata": {},
   "outputs": [
    {
     "data": {
      "image/png": "[encoded data removed]",
      "text/plain": [
       "<Figure size 1296x576 with 1 Axes>"
      ]
     },
     "metadata": {
      "needs_background": "light"
     },
     "output_type": "display_data"
    }
   ],
   "source": [
    "from matplotlib import rcParams\n",
    "rcParams['figure.figsize'] = (18, 8)\n",
    "rcParams['axes.spines.top'] = False\n",
    "rcParams['axes.spines.right'] = False \n",
    "\n",
    "\n",
    "# plt.plot(\n",
    "#     np.arange(1, 21), \n",
    "#     history_of_model.history['loss'], \n",
    "#     label='Loss', lw=3\n",
    "# )\n",
    "plt.plot(\n",
    "    np.arange(1, 21), \n",
    "    history_of_model.history['accuracy'], \n",
    "    label='Accuracy', lw=3\n",
    ")\n",
    "# plt.plot(\n",
    "#     np.arange(1, 21), \n",
    "#     history_of_model.history['lr'], \n",
    "#     label='Learning rate', color='#999', lw=3, linestyle='--'\n",
    "# )\n",
    "plt.title('Evaluation metrics', size=20)\n",
    "plt.xlabel('Epoch', size=14)\n",
    "plt.legend();"
   ]
  },
  {
   "cell_type": "code",
   "execution_count": null,
   "metadata": {},
   "outputs": [],
   "source": []
  },
  {
   "cell_type": "code",
   "execution_count": null,
   "metadata": {},
   "outputs": [],
   "source": []
  }
 ],
 "metadata": {
  "kernelspec": {
   "display_name": "Python 3",
   "language": "python",
   "name": "python3"
  },
  "language_info": {
   "codemirror_mode": {
    "name": "ipython",
    "version": 3
   },
   "file_extension": ".py",
   "mimetype": "text/x-python",
   "name": "python",
   "nbconvert_exporter": "python",
   "pygments_lexer": "ipython3",
   "version": "3.7.6"
  }
 },
 "nbformat": 4,
 "nbformat_minor": 4
}
